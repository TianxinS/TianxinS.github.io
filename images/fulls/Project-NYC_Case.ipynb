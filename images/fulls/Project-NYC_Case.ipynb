{
 "cells": [
  {
   "cell_type": "markdown",
   "metadata": {},
   "source": [
    "# Package Import"
   ]
  },
  {
   "cell_type": "code",
   "execution_count": 29,
   "metadata": {},
   "outputs": [],
   "source": [
    "import numpy as np\n",
    "import pandas as pd\n",
    "from sklearn import preprocessing\n",
    "from sklearn import model_selection\n",
    "from sklearn.ensemble import RandomForestClassifier\n",
    "from sklearn.metrics import precision_recall_fscore_support\n",
    "from collections import Counter \n",
    "from imblearn.under_sampling import (ClusterCentroids, RandomUnderSampler,\n",
    "                                     NearMiss,\n",
    "                                     InstanceHardnessThreshold,\n",
    "                                     CondensedNearestNeighbour,\n",
    "                                     EditedNearestNeighbours,\n",
    "                                     RepeatedEditedNearestNeighbours,\n",
    "                                     AllKNN,\n",
    "                                     NeighbourhoodCleaningRule,\n",
    "                                     OneSidedSelection)\n",
    "from sklearn.preprocessing import MinMaxScaler\n",
    "from sklearn.model_selection import train_test_split\n",
    "from sklearn.metrics import classification_report, confusion_matrix\n",
    "from sklearn.ensemble import GradientBoostingClassifier"
   ]
  },
  {
   "cell_type": "markdown",
   "metadata": {},
   "source": [
    "# Data Cleaning"
   ]
  },
  {
   "cell_type": "code",
   "execution_count": null,
   "metadata": {},
   "outputs": [],
   "source": [
    "# read raw data\n",
    "csv = pd.read_csv('NYPD_Arrests_Data__Historic_.csv')\n",
    "csv.head(3)"
   ]
  },
  {
   "cell_type": "code",
   "execution_count": null,
   "metadata": {},
   "outputs": [],
   "source": [
    "# Drop na drop duplicates\n",
    "data = csv[['ARREST_DATE','PD_DESC','OFNS_DESC','LAW_CAT_CD', 'ARREST_BORO','AGE_GROUP','PERP_SEX','PERP_RACE']].drop_duplicates().dropna()\n",
    "data = data.reset_index(drop=True)\n"
   ]
  },
  {
   "cell_type": "code",
   "execution_count": null,
   "metadata": {},
   "outputs": [],
   "source": [
    "data['LAW_CAT_CD'].unique()\n",
    "#Level of offense: felony, misdemeanor, violation\n",
    "# Because data description did not explain I, we only analyze F, M, V in our project\n",
    "\n",
    "# drop I\n",
    "# Get names of indexes for which column CAT_CD is I\n",
    "indexNames = data[ data['LAW_CAT_CD'] == 'I' ].index\n",
    " \n",
    "# Delete these row indexes from dataFrame\n",
    "data.drop(indexNames , inplace=True)"
   ]
  },
  {
   "cell_type": "code",
   "execution_count": null,
   "metadata": {},
   "outputs": [],
   "source": [
    "data = data.reset_index(drop=True)"
   ]
  },
  {
   "cell_type": "code",
   "execution_count": null,
   "metadata": {},
   "outputs": [],
   "source": [
    "data['ARREST_BORO'].unique()\n",
    "#Borough of arrest. B(Bronx), S(Staten Island), K(Brooklyn), M(Manhattan), Q(Queens)"
   ]
  },
  {
   "cell_type": "code",
   "execution_count": null,
   "metadata": {},
   "outputs": [],
   "source": [
    "data['OFNS_DESC'].unique()"
   ]
  },
  {
   "cell_type": "code",
   "execution_count": null,
   "metadata": {},
   "outputs": [],
   "source": [
    "# extract year and month\n",
    "data['YEAR'] = pd.DatetimeIndex(data['ARREST_DATE']).year\n",
    "data['MONTH'] = pd.DatetimeIndex(data['ARREST_DATE']).month"
   ]
  },
  {
   "cell_type": "code",
   "execution_count": null,
   "metadata": {},
   "outputs": [],
   "source": [
    "# keep only the data from 2008.1 to 2011.7\n",
    "data3 = data.loc[(data['YEAR'] == 2008)|(data['YEAR'] == 2009)|(data['YEAR'] == 2010)]\n",
    "data4 = data.loc[(data['YEAR'] == 2011)]\n",
    "data5 = data4.loc[(data4['MONTH'].isin([1,2,3,4,5,6,7]))]\n",
    "data2= pd.concat([data3,data5])\n",
    "data2=data2.reset_index(drop=True)\n",
    "# save the cleaned data\n",
    "data2.to_csv('NYCCrime_TimeModified.csv')"
   ]
  },
  {
   "cell_type": "markdown",
   "metadata": {},
   "source": [
    "# Modeling"
   ]
  },
  {
   "cell_type": "code",
   "execution_count": 2,
   "metadata": {},
   "outputs": [],
   "source": [
    "data2 = pd.read_csv('NYCCrime_TimeModified.csv')"
   ]
  },
  {
   "cell_type": "code",
   "execution_count": 3,
   "metadata": {},
   "outputs": [
    {
     "data": {
      "text/html": [
       "<div>\n",
       "<style scoped>\n",
       "    .dataframe tbody tr th:only-of-type {\n",
       "        vertical-align: middle;\n",
       "    }\n",
       "\n",
       "    .dataframe tbody tr th {\n",
       "        vertical-align: top;\n",
       "    }\n",
       "\n",
       "    .dataframe thead th {\n",
       "        text-align: right;\n",
       "    }\n",
       "</style>\n",
       "<table border=\"1\" class=\"dataframe\">\n",
       "  <thead>\n",
       "    <tr style=\"text-align: right;\">\n",
       "      <th></th>\n",
       "      <th>Unnamed: 0</th>\n",
       "      <th>ARREST_DATE</th>\n",
       "      <th>PD_DESC</th>\n",
       "      <th>OFNS_DESC</th>\n",
       "      <th>LAW_CAT_CD</th>\n",
       "      <th>ARREST_BORO</th>\n",
       "      <th>AGE_GROUP</th>\n",
       "      <th>PERP_SEX</th>\n",
       "      <th>PERP_RACE</th>\n",
       "      <th>YEAR</th>\n",
       "      <th>MONTH</th>\n",
       "    </tr>\n",
       "  </thead>\n",
       "  <tbody>\n",
       "    <tr>\n",
       "      <td>0</td>\n",
       "      <td>0</td>\n",
       "      <td>12/31/2010</td>\n",
       "      <td>IMPERSONATION 2, PUBLIC SERVANT</td>\n",
       "      <td>FRAUDS</td>\n",
       "      <td>M</td>\n",
       "      <td>S</td>\n",
       "      <td>18-24</td>\n",
       "      <td>M</td>\n",
       "      <td>BLACK</td>\n",
       "      <td>2010</td>\n",
       "      <td>12</td>\n",
       "    </tr>\n",
       "    <tr>\n",
       "      <td>1</td>\n",
       "      <td>1</td>\n",
       "      <td>12/31/2010</td>\n",
       "      <td>MARIJUANA, POSSESSION 4 &amp; 5</td>\n",
       "      <td>DANGEROUS DRUGS</td>\n",
       "      <td>M</td>\n",
       "      <td>S</td>\n",
       "      <td>25-44</td>\n",
       "      <td>F</td>\n",
       "      <td>ASIAN / PACIFIC ISLANDER</td>\n",
       "      <td>2010</td>\n",
       "      <td>12</td>\n",
       "    </tr>\n",
       "    <tr>\n",
       "      <td>2</td>\n",
       "      <td>2</td>\n",
       "      <td>12/31/2010</td>\n",
       "      <td>FORGERY,ETC.,UNCLASSIFIED-FELONY</td>\n",
       "      <td>FORGERY</td>\n",
       "      <td>F</td>\n",
       "      <td>Q</td>\n",
       "      <td>18-24</td>\n",
       "      <td>F</td>\n",
       "      <td>BLACK</td>\n",
       "      <td>2010</td>\n",
       "      <td>12</td>\n",
       "    </tr>\n",
       "    <tr>\n",
       "      <td>3</td>\n",
       "      <td>3</td>\n",
       "      <td>12/31/2010</td>\n",
       "      <td>CONTROLLED SUBSTANCE, POSSESSION 7</td>\n",
       "      <td>DANGEROUS DRUGS</td>\n",
       "      <td>M</td>\n",
       "      <td>Q</td>\n",
       "      <td>45-64</td>\n",
       "      <td>M</td>\n",
       "      <td>BLACK</td>\n",
       "      <td>2010</td>\n",
       "      <td>12</td>\n",
       "    </tr>\n",
       "    <tr>\n",
       "      <td>4</td>\n",
       "      <td>4</td>\n",
       "      <td>12/31/2010</td>\n",
       "      <td>LOITERING,GAMBLING,OTHER</td>\n",
       "      <td>LOITERING/GAMBLING (CARDS, DICE, ETC)</td>\n",
       "      <td>V</td>\n",
       "      <td>Q</td>\n",
       "      <td>25-44</td>\n",
       "      <td>M</td>\n",
       "      <td>WHITE HISPANIC</td>\n",
       "      <td>2010</td>\n",
       "      <td>12</td>\n",
       "    </tr>\n",
       "    <tr>\n",
       "      <td>...</td>\n",
       "      <td>...</td>\n",
       "      <td>...</td>\n",
       "      <td>...</td>\n",
       "      <td>...</td>\n",
       "      <td>...</td>\n",
       "      <td>...</td>\n",
       "      <td>...</td>\n",
       "      <td>...</td>\n",
       "      <td>...</td>\n",
       "      <td>...</td>\n",
       "      <td>...</td>\n",
       "    </tr>\n",
       "    <tr>\n",
       "      <td>958155</td>\n",
       "      <td>958155</td>\n",
       "      <td>01/01/2011</td>\n",
       "      <td>STOLEN PROPERTY 3,POSSESSION</td>\n",
       "      <td>POSSESSION OF STOLEN PROPERTY 5</td>\n",
       "      <td>M</td>\n",
       "      <td>M</td>\n",
       "      <td>18-24</td>\n",
       "      <td>F</td>\n",
       "      <td>BLACK</td>\n",
       "      <td>2011</td>\n",
       "      <td>1</td>\n",
       "    </tr>\n",
       "    <tr>\n",
       "      <td>958156</td>\n",
       "      <td>958156</td>\n",
       "      <td>01/01/2011</td>\n",
       "      <td>CONTEMPT,CRIMINAL</td>\n",
       "      <td>OFFENSES AGAINST PUBLIC ADMINISTRATION</td>\n",
       "      <td>M</td>\n",
       "      <td>B</td>\n",
       "      <td>25-44</td>\n",
       "      <td>M</td>\n",
       "      <td>WHITE HISPANIC</td>\n",
       "      <td>2011</td>\n",
       "      <td>1</td>\n",
       "    </tr>\n",
       "    <tr>\n",
       "      <td>958157</td>\n",
       "      <td>958157</td>\n",
       "      <td>01/01/2011</td>\n",
       "      <td>CONTROLLED SUBSTANCE, POSSESSION 7</td>\n",
       "      <td>DANGEROUS DRUGS</td>\n",
       "      <td>M</td>\n",
       "      <td>K</td>\n",
       "      <td>18-24</td>\n",
       "      <td>M</td>\n",
       "      <td>WHITE</td>\n",
       "      <td>2011</td>\n",
       "      <td>1</td>\n",
       "    </tr>\n",
       "    <tr>\n",
       "      <td>958158</td>\n",
       "      <td>958158</td>\n",
       "      <td>01/01/2011</td>\n",
       "      <td>ASSAULT 2,1,PEACE OFFICER</td>\n",
       "      <td>FELONY ASSAULT</td>\n",
       "      <td>F</td>\n",
       "      <td>B</td>\n",
       "      <td>25-44</td>\n",
       "      <td>M</td>\n",
       "      <td>WHITE HISPANIC</td>\n",
       "      <td>2011</td>\n",
       "      <td>1</td>\n",
       "    </tr>\n",
       "    <tr>\n",
       "      <td>958159</td>\n",
       "      <td>958159</td>\n",
       "      <td>01/01/2011</td>\n",
       "      <td>ASSAULT 3</td>\n",
       "      <td>ASSAULT 3 &amp; RELATED OFFENSES</td>\n",
       "      <td>M</td>\n",
       "      <td>M</td>\n",
       "      <td>&lt;18</td>\n",
       "      <td>M</td>\n",
       "      <td>BLACK</td>\n",
       "      <td>2011</td>\n",
       "      <td>1</td>\n",
       "    </tr>\n",
       "  </tbody>\n",
       "</table>\n",
       "<p>958160 rows × 11 columns</p>\n",
       "</div>"
      ],
      "text/plain": [
       "        Unnamed: 0 ARREST_DATE                             PD_DESC  \\\n",
       "0                0  12/31/2010     IMPERSONATION 2, PUBLIC SERVANT   \n",
       "1                1  12/31/2010         MARIJUANA, POSSESSION 4 & 5   \n",
       "2                2  12/31/2010    FORGERY,ETC.,UNCLASSIFIED-FELONY   \n",
       "3                3  12/31/2010  CONTROLLED SUBSTANCE, POSSESSION 7   \n",
       "4                4  12/31/2010            LOITERING,GAMBLING,OTHER   \n",
       "...            ...         ...                                 ...   \n",
       "958155      958155  01/01/2011        STOLEN PROPERTY 3,POSSESSION   \n",
       "958156      958156  01/01/2011                   CONTEMPT,CRIMINAL   \n",
       "958157      958157  01/01/2011  CONTROLLED SUBSTANCE, POSSESSION 7   \n",
       "958158      958158  01/01/2011           ASSAULT 2,1,PEACE OFFICER   \n",
       "958159      958159  01/01/2011                           ASSAULT 3   \n",
       "\n",
       "                                     OFNS_DESC LAW_CAT_CD ARREST_BORO  \\\n",
       "0                                       FRAUDS          M           S   \n",
       "1                              DANGEROUS DRUGS          M           S   \n",
       "2                                      FORGERY          F           Q   \n",
       "3                              DANGEROUS DRUGS          M           Q   \n",
       "4        LOITERING/GAMBLING (CARDS, DICE, ETC)          V           Q   \n",
       "...                                        ...        ...         ...   \n",
       "958155         POSSESSION OF STOLEN PROPERTY 5          M           M   \n",
       "958156  OFFENSES AGAINST PUBLIC ADMINISTRATION          M           B   \n",
       "958157                         DANGEROUS DRUGS          M           K   \n",
       "958158                          FELONY ASSAULT          F           B   \n",
       "958159            ASSAULT 3 & RELATED OFFENSES          M           M   \n",
       "\n",
       "       AGE_GROUP PERP_SEX                 PERP_RACE  YEAR  MONTH  \n",
       "0          18-24        M                     BLACK  2010     12  \n",
       "1          25-44        F  ASIAN / PACIFIC ISLANDER  2010     12  \n",
       "2          18-24        F                     BLACK  2010     12  \n",
       "3          45-64        M                     BLACK  2010     12  \n",
       "4          25-44        M            WHITE HISPANIC  2010     12  \n",
       "...          ...      ...                       ...   ...    ...  \n",
       "958155     18-24        F                     BLACK  2011      1  \n",
       "958156     25-44        M            WHITE HISPANIC  2011      1  \n",
       "958157     18-24        M                     WHITE  2011      1  \n",
       "958158     25-44        M            WHITE HISPANIC  2011      1  \n",
       "958159       <18        M                     BLACK  2011      1  \n",
       "\n",
       "[958160 rows x 11 columns]"
      ]
     },
     "execution_count": 3,
     "metadata": {},
     "output_type": "execute_result"
    }
   ],
   "source": [
    "data2"
   ]
  },
  {
   "cell_type": "code",
   "execution_count": 6,
   "metadata": {},
   "outputs": [
    {
     "data": {
      "text/plain": [
       "Counter({'M': 630596, 'F': 272879, 'V': 54685})"
      ]
     },
     "execution_count": 6,
     "metadata": {},
     "output_type": "execute_result"
    }
   ],
   "source": [
    "Counter(data2['LAW_CAT_CD'])"
   ]
  },
  {
   "cell_type": "code",
   "execution_count": 7,
   "metadata": {},
   "outputs": [
    {
     "name": "stdout",
     "output_type": "stream",
     "text": [
      "<class 'pandas.core.frame.DataFrame'>\n",
      "RangeIndex: 958160 entries, 0 to 958159\n",
      "Data columns (total 11 columns):\n",
      "Unnamed: 0     958160 non-null int64\n",
      "ARREST_DATE    958160 non-null object\n",
      "PD_DESC        958160 non-null object\n",
      "OFNS_DESC      958160 non-null object\n",
      "LAW_CAT_CD     958160 non-null object\n",
      "ARREST_BORO    958160 non-null object\n",
      "AGE_GROUP      958160 non-null object\n",
      "PERP_SEX       958160 non-null object\n",
      "PERP_RACE      958160 non-null object\n",
      "YEAR           958160 non-null int64\n",
      "MONTH          958160 non-null int64\n",
      "dtypes: int64(3), object(8)\n",
      "memory usage: 80.4+ MB\n"
     ]
    }
   ],
   "source": [
    "data2.info()"
   ]
  },
  {
   "cell_type": "code",
   "execution_count": 8,
   "metadata": {},
   "outputs": [],
   "source": [
    "def labeling(org_label):\n",
    "    if org_label == 'V':\n",
    "        return 0\n",
    "    elif org_label == 'M':\n",
    "        return 1\n",
    "    else:\n",
    "        return 2\n",
    "    \n",
    "##Level of offense: felony (2), misdemeanor (1), violation (0)"
   ]
  },
  {
   "cell_type": "code",
   "execution_count": 9,
   "metadata": {},
   "outputs": [],
   "source": [
    "data2['LAW_CAT_LABEL'] = data2['LAW_CAT_CD'].apply(labeling)"
   ]
  },
  {
   "cell_type": "code",
   "execution_count": 10,
   "metadata": {},
   "outputs": [],
   "source": [
    "# Get feature feature space by dropping useless feature\n",
    "to_drop = ['ARREST_DATE','PD_DESC','OFNS_DESC','LAW_CAT_CD','YEAR','MONTH','LAW_CAT_LABEL','Unnamed: 0']\n",
    "X = data2.drop(to_drop, axis=1)\n",
    "y = data2['LAW_CAT_LABEL']"
   ]
  },
  {
   "cell_type": "code",
   "execution_count": 12,
   "metadata": {},
   "outputs": [],
   "source": [
    "# factors\n",
    "X['ARREST_BORO'] = preprocessing.LabelEncoder().fit_transform(X['ARREST_BORO'])\n",
    "X['AGE_GROUP'] = preprocessing.LabelEncoder().fit_transform(X['AGE_GROUP'])\n",
    "X['PERP_SEX'] = preprocessing.LabelEncoder().fit_transform(X['PERP_SEX'])\n",
    "X['PERP_RACE'] = preprocessing.LabelEncoder().fit_transform(X['PERP_RACE'])"
   ]
  },
  {
   "cell_type": "code",
   "execution_count": 13,
   "metadata": {},
   "outputs": [
    {
     "data": {
      "text/plain": [
       "0         1\n",
       "1         1\n",
       "2         2\n",
       "3         1\n",
       "4         0\n",
       "         ..\n",
       "958155    1\n",
       "958156    1\n",
       "958157    1\n",
       "958158    2\n",
       "958159    1\n",
       "Name: LAW_CAT_LABEL, Length: 958160, dtype: int64"
      ]
     },
     "execution_count": 13,
     "metadata": {},
     "output_type": "execute_result"
    }
   ],
   "source": [
    "y"
   ]
  },
  {
   "cell_type": "code",
   "execution_count": 14,
   "metadata": {},
   "outputs": [
    {
     "data": {
      "text/plain": [
       "0         False\n",
       "1         False\n",
       "2         False\n",
       "3         False\n",
       "4         False\n",
       "          ...  \n",
       "958155     True\n",
       "958156     True\n",
       "958157     True\n",
       "958158     True\n",
       "958159     True\n",
       "Length: 958160, dtype: bool"
      ]
     },
     "execution_count": 14,
     "metadata": {},
     "output_type": "execute_result"
    }
   ],
   "source": [
    "X.duplicated()\n",
    "# X has duplication"
   ]
  },
  {
   "cell_type": "code",
   "execution_count": 15,
   "metadata": {},
   "outputs": [],
   "source": [
    "# Splite data into training and testing\n",
    "# Reserve 25% for testing\n",
    "X_train, X_test, y_train, y_test = model_selection.train_test_split(X, y, test_size=0.25)\n"
   ]
  },
  {
   "cell_type": "code",
   "execution_count": 16,
   "metadata": {},
   "outputs": [
    {
     "data": {
      "text/plain": [
       "Counter({1: 473118, 2: 204531, 0: 40971})"
      ]
     },
     "execution_count": 16,
     "metadata": {},
     "output_type": "execute_result"
    }
   ],
   "source": [
    "Counter(y_train)"
   ]
  },
  {
   "cell_type": "code",
   "execution_count": 17,
   "metadata": {},
   "outputs": [],
   "source": [
    "# Random Forest\n",
    "classifier_RF = RandomForestClassifier()"
   ]
  },
  {
   "cell_type": "code",
   "execution_count": 18,
   "metadata": {},
   "outputs": [
    {
     "data": {
      "text/plain": [
       "RandomForestClassifier(bootstrap=True, ccp_alpha=0.0, class_weight=None,\n",
       "                       criterion='gini', max_depth=None, max_features='auto',\n",
       "                       max_leaf_nodes=None, max_samples=None,\n",
       "                       min_impurity_decrease=0.0, min_impurity_split=None,\n",
       "                       min_samples_leaf=1, min_samples_split=2,\n",
       "                       min_weight_fraction_leaf=0.0, n_estimators=100,\n",
       "                       n_jobs=None, oob_score=False, random_state=None,\n",
       "                       verbose=0, warm_start=False)"
      ]
     },
     "execution_count": 18,
     "metadata": {},
     "output_type": "execute_result"
    }
   ],
   "source": [
    "# fit RF model\n",
    "classifier_RF.fit(X_train, y_train)"
   ]
  },
  {
   "cell_type": "code",
   "execution_count": 19,
   "metadata": {},
   "outputs": [
    {
     "data": {
      "text/plain": [
       "array([1, 1, 1, ..., 1, 1, 1], dtype=int64)"
      ]
     },
     "execution_count": 19,
     "metadata": {},
     "output_type": "execute_result"
    }
   ],
   "source": [
    "# Prediction of test data\n",
    "classifier_RF.predict(X_test)"
   ]
  },
  {
   "cell_type": "code",
   "execution_count": 20,
   "metadata": {},
   "outputs": [
    {
     "data": {
      "text/plain": [
       "0.6573975118978042"
      ]
     },
     "execution_count": 20,
     "metadata": {},
     "output_type": "execute_result"
    }
   ],
   "source": [
    "# Accuracy of test data\n",
    "classifier_RF.score(X_test, y_test)"
   ]
  },
  {
   "cell_type": "code",
   "execution_count": 21,
   "metadata": {},
   "outputs": [
    {
     "name": "stderr",
     "output_type": "stream",
     "text": [
      "C:\\Users\\iGuest\\Anaconda3\\lib\\site-packages\\sklearn\\metrics\\_classification.py:1272: UndefinedMetricWarning: Precision and F-score are ill-defined and being set to 0.0 in labels with no predicted samples. Use `zero_division` parameter to control this behavior.\n",
      "  _warn_prf(average, modifier, msg_start, len(result))\n"
     ]
    },
    {
     "data": {
      "text/plain": [
       "(array([0.        , 0.65741123, 0.        ]),\n",
       " array([0.        , 0.99996825, 0.        ]),\n",
       " array([0.        , 0.79328888, 0.        ]),\n",
       " array([ 13714, 157478,  68348], dtype=int64))"
      ]
     },
     "execution_count": 21,
     "metadata": {},
     "output_type": "execute_result"
    }
   ],
   "source": [
    "# get precision, recall, fscore\n",
    "y_pred = classifier_RF.predict(X_test)\n",
    "precision_recall_fscore_support(y_test, y_pred,labels=[0,1,2])"
   ]
  },
  {
   "cell_type": "markdown",
   "metadata": {},
   "source": [
    "# Undersampling"
   ]
  },
  {
   "cell_type": "code",
   "execution_count": 23,
   "metadata": {},
   "outputs": [
    {
     "name": "stdout",
     "output_type": "stream",
     "text": [
      "[(0, 40971), (1, 40971), (2, 40971)]\n"
     ]
    }
   ],
   "source": [
    "rus = RandomUnderSampler(random_state=0)\n",
    "X_resampled, y_resampled = rus.fit_resample(X_train, y_train)\n",
    "print(sorted(Counter(y_resampled).items()))"
   ]
  },
  {
   "cell_type": "code",
   "execution_count": 24,
   "metadata": {},
   "outputs": [
    {
     "data": {
      "text/plain": [
       "RandomForestClassifier(bootstrap=True, ccp_alpha=0.0, class_weight=None,\n",
       "                       criterion='gini', max_depth=None, max_features='auto',\n",
       "                       max_leaf_nodes=None, max_samples=None,\n",
       "                       min_impurity_decrease=0.0, min_impurity_split=None,\n",
       "                       min_samples_leaf=1, min_samples_split=2,\n",
       "                       min_weight_fraction_leaf=0.0, n_estimators=100,\n",
       "                       n_jobs=None, oob_score=False, random_state=None,\n",
       "                       verbose=0, warm_start=False)"
      ]
     },
     "execution_count": 24,
     "metadata": {},
     "output_type": "execute_result"
    }
   ],
   "source": [
    "# fit model after undersamling \n",
    "classifier_RF.fit(X_resampled, y_resampled)"
   ]
  },
  {
   "cell_type": "code",
   "execution_count": 25,
   "metadata": {},
   "outputs": [
    {
     "data": {
      "text/plain": [
       "array([2, 2, 0, ..., 1, 1, 1], dtype=int64)"
      ]
     },
     "execution_count": 25,
     "metadata": {},
     "output_type": "execute_result"
    }
   ],
   "source": [
    "# Prediction of test data\n",
    "classifier_RF.predict(X_test)"
   ]
  },
  {
   "cell_type": "code",
   "execution_count": 26,
   "metadata": {},
   "outputs": [
    {
     "data": {
      "text/plain": [
       "0.34529514903565167"
      ]
     },
     "execution_count": 26,
     "metadata": {},
     "output_type": "execute_result"
    }
   ],
   "source": [
    "# Accuracy of test data\n",
    "classifier_RF.score(X_test, y_test)"
   ]
  },
  {
   "cell_type": "code",
   "execution_count": 27,
   "metadata": {},
   "outputs": [
    {
     "data": {
      "text/plain": [
       "(array([0.08561496, 0.71857806, 0.3235592 ]),\n",
       " array([0.63570074, 0.34002845, 0.29916018]),\n",
       " array([0.15090616, 0.46162003, 0.3108817 ]),\n",
       " array([ 13714, 157478,  68348], dtype=int64))"
      ]
     },
     "execution_count": 27,
     "metadata": {},
     "output_type": "execute_result"
    }
   ],
   "source": [
    "y_pred = classifier_RF.predict(X_test)\n",
    "precision_recall_fscore_support(y_test, y_pred,labels=[0,1,2])"
   ]
  },
  {
   "cell_type": "markdown",
   "metadata": {},
   "source": [
    "# Gradient Boosting Decision Tree"
   ]
  },
  {
   "cell_type": "code",
   "execution_count": 30,
   "metadata": {},
   "outputs": [
    {
     "name": "stdout",
     "output_type": "stream",
     "text": [
      "Learning rate:  0.05\n",
      "Accuracy score (training): 0.420\n",
      "Accuracy score (validation): 0.316\n",
      "Learning rate:  0.075\n",
      "Accuracy score (training): 0.420\n",
      "Accuracy score (validation): 0.306\n",
      "Learning rate:  0.1\n",
      "Accuracy score (training): 0.420\n",
      "Accuracy score (validation): 0.308\n",
      "Learning rate:  0.25\n",
      "Accuracy score (training): 0.427\n",
      "Accuracy score (validation): 0.355\n",
      "Learning rate:  0.5\n",
      "Accuracy score (training): 0.427\n",
      "Accuracy score (validation): 0.350\n",
      "Learning rate:  0.75\n",
      "Accuracy score (training): 0.427\n",
      "Accuracy score (validation): 0.344\n",
      "Learning rate:  1\n",
      "Accuracy score (training): 0.428\n",
      "Accuracy score (validation): 0.343\n"
     ]
    }
   ],
   "source": [
    "# set learning rate list\n",
    "lr_list = [0.05, 0.075, 0.1, 0.25, 0.5, 0.75, 1]\n",
    "\n",
    "for learning_rate in lr_list:\n",
    "    gb_clf = GradientBoostingClassifier(n_estimators=20, learning_rate=learning_rate, max_features=2, max_depth=3, random_state=0)\n",
    "    gb_clf.fit(X_resampled, y_resampled)\n",
    "    print(\"Learning rate: \", learning_rate)\n",
    "    print(\"Accuracy score (training): {0:.3f}\".format(gb_clf.score(X_resampled, y_resampled)))\n",
    "    print(\"Accuracy score (validation): {0:.3f}\".format(gb_clf.score(X_test, y_test)))"
   ]
  },
  {
   "cell_type": "code",
   "execution_count": 31,
   "metadata": {},
   "outputs": [
    {
     "name": "stdout",
     "output_type": "stream",
     "text": [
      "Confusion Matrix:\n",
      "[[ 9737  2038  1939]\n",
      " [74428 55740 27310]\n",
      " [34359 19762 14227]]\n",
      "Classification Report\n",
      "              precision    recall  f1-score   support\n",
      "\n",
      "           0       0.08      0.71      0.15     13714\n",
      "           1       0.72      0.35      0.47    157478\n",
      "           2       0.33      0.21      0.25     68348\n",
      "\n",
      "    accuracy                           0.33    239540\n",
      "   macro avg       0.38      0.42      0.29    239540\n",
      "weighted avg       0.57      0.33      0.39    239540\n",
      "\n"
     ]
    }
   ],
   "source": [
    "# select the learning rate with the highest accuracy to fit the GBDT model, lr is 0.25\n",
    "gb_clf2 = GradientBoostingClassifier(n_estimators=20, learning_rate=0.25, max_features=2, max_depth=2, random_state=0)\n",
    "gb_clf2.fit(X_resampled, y_resampled)\n",
    "predictions = gb_clf2.predict(X_test)\n",
    "\n",
    "print(\"Confusion Matrix:\")\n",
    "print(confusion_matrix(y_test, predictions))\n",
    "\n",
    "print(\"Classification Report\")\n",
    "print(classification_report(y_test, predictions))"
   ]
  },
  {
   "cell_type": "code",
   "execution_count": null,
   "metadata": {},
   "outputs": [],
   "source": []
  }
 ],
 "metadata": {
  "kernelspec": {
   "display_name": "Python 3",
   "language": "python",
   "name": "python3"
  },
  "language_info": {
   "codemirror_mode": {
    "name": "ipython",
    "version": 3
   },
   "file_extension": ".py",
   "mimetype": "text/x-python",
   "name": "python",
   "nbconvert_exporter": "python",
   "pygments_lexer": "ipython3",
   "version": "3.7.4"
  }
 },
 "nbformat": 4,
 "nbformat_minor": 2
}
